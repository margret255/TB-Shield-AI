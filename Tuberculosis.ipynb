{
  "nbformat": 4,
  "nbformat_minor": 0,
  "metadata": {
    "colab": {
      "provenance": []
    },
    "kernelspec": {
      "name": "python3",
      "display_name": "Python 3"
    },
    "language_info": {
      "name": "python"
    }
  },
  "cells": [
    {
      "cell_type": "code",
      "execution_count": 149,
      "metadata": {
        "id": "JB_amgCyxQys"
      },
      "outputs": [],
      "source": [
        "import numpy as np\n",
        "import pandas as pd\n",
        "import matplotlib.pyplot as plt\n",
        "import seaborn as sns\n",
        "from sklearn.model_selection import train_test_split\n",
        "from sklearn.linear_model import LogisticRegression\n",
        "from sklearn.metrics import confusion_matrix\n",
        "from sklearn.metrics import precision_recall_curve,average_precision_score\n",
        "\n",
        "from sklearn.metrics import confusion_matrix, roc_curve, auc\n",
        "from sklearn.metrics import accuracy_score,precision_score,recall_score,f1_score,confusion_matrix,classification_report\n",
        "import warnings\n",
        "warnings.filterwarnings('ignore')"
      ]
    },
    {
      "cell_type": "code",
      "source": [
        "df=pd.read_excel('/content/tuberculosis dataset.xlsx',header=1)\n",
        "df.to_csv('tuberculosis dataset.csv', index=False)\n",
        "df=pd.read_csv('/content/tuberculosis dataset.csv')\n",
        "df.head()\n",
        "print(df.head())\n",
        "print(df.info())"
      ],
      "metadata": {
        "colab": {
          "base_uri": "https://localhost:8080/"
        },
        "id": "BazcCka9xvRY",
        "outputId": "ec4bae8b-0f38-47b1-c46a-e291f78891cd"
      },
      "execution_count": 150,
      "outputs": [
        {
          "output_type": "stream",
          "name": "stdout",
          "text": [
            "   CO  NS  BD  FV  CP  SP  IS  LP  CH  LC  IR  LA  LE  LNE  SBP  BMI\n",
            "0   0   2   2   1   2   0   1   1   1   2   2   1   1    1    0    0\n",
            "1   0   0   2   0   1   1   0   1   0   2   2   0   0    0    2    1\n",
            "2   1   1   2   0   2   0   1   2   2   2   0   1   0    2    2    0\n",
            "3   0   0   1   2   0   0   1   0   0   1   1   0   1    1    1    0\n",
            "4   1   2   1   1   0   2   2   1   0   1   2   0   2    0    1    1\n",
            "<class 'pandas.core.frame.DataFrame'>\n",
            "RangeIndex: 492 entries, 0 to 491\n",
            "Data columns (total 16 columns):\n",
            " #   Column  Non-Null Count  Dtype\n",
            "---  ------  --------------  -----\n",
            " 0   CO      492 non-null    int64\n",
            " 1   NS      492 non-null    int64\n",
            " 2   BD      492 non-null    int64\n",
            " 3   FV      492 non-null    int64\n",
            " 4   CP      492 non-null    int64\n",
            " 5   SP      492 non-null    int64\n",
            " 6   IS      492 non-null    int64\n",
            " 7   LP      492 non-null    int64\n",
            " 8   CH      492 non-null    int64\n",
            " 9   LC      492 non-null    int64\n",
            " 10  IR      492 non-null    int64\n",
            " 11  LA      492 non-null    int64\n",
            " 12  LE      492 non-null    int64\n",
            " 13  LNE     492 non-null    int64\n",
            " 14  SBP     492 non-null    int64\n",
            " 15  BMI     492 non-null    int64\n",
            "dtypes: int64(16)\n",
            "memory usage: 61.6 KB\n",
            "None\n"
          ]
        }
      ]
    },
    {
      "cell_type": "code",
      "source": [
        "print(df.head())\n",
        "print(df.info())\n",
        "print(df.describe())\n"
      ],
      "metadata": {
        "id": "XNdO_hfwx_ji",
        "colab": {
          "base_uri": "https://localhost:8080/"
        },
        "outputId": "a7694d01-3c5b-4984-dd83-4c0db50f2167"
      },
      "execution_count": 151,
      "outputs": [
        {
          "output_type": "stream",
          "name": "stdout",
          "text": [
            "   CO  NS  BD  FV  CP  SP  IS  LP  CH  LC  IR  LA  LE  LNE  SBP  BMI\n",
            "0   0   2   2   1   2   0   1   1   1   2   2   1   1    1    0    0\n",
            "1   0   0   2   0   1   1   0   1   0   2   2   0   0    0    2    1\n",
            "2   1   1   2   0   2   0   1   2   2   2   0   1   0    2    2    0\n",
            "3   0   0   1   2   0   0   1   0   0   1   1   0   1    1    1    0\n",
            "4   1   2   1   1   0   2   2   1   0   1   2   0   2    0    1    1\n",
            "<class 'pandas.core.frame.DataFrame'>\n",
            "RangeIndex: 492 entries, 0 to 491\n",
            "Data columns (total 16 columns):\n",
            " #   Column  Non-Null Count  Dtype\n",
            "---  ------  --------------  -----\n",
            " 0   CO      492 non-null    int64\n",
            " 1   NS      492 non-null    int64\n",
            " 2   BD      492 non-null    int64\n",
            " 3   FV      492 non-null    int64\n",
            " 4   CP      492 non-null    int64\n",
            " 5   SP      492 non-null    int64\n",
            " 6   IS      492 non-null    int64\n",
            " 7   LP      492 non-null    int64\n",
            " 8   CH      492 non-null    int64\n",
            " 9   LC      492 non-null    int64\n",
            " 10  IR      492 non-null    int64\n",
            " 11  LA      492 non-null    int64\n",
            " 12  LE      492 non-null    int64\n",
            " 13  LNE     492 non-null    int64\n",
            " 14  SBP     492 non-null    int64\n",
            " 15  BMI     492 non-null    int64\n",
            "dtypes: int64(16)\n",
            "memory usage: 61.6 KB\n",
            "None\n",
            "               CO          NS          BD          FV          CP          SP  \\\n",
            "count  492.000000  492.000000  492.000000  492.000000  492.000000  492.000000   \n",
            "mean     2.038618    1.054878    1.079268    1.016260    1.020325    0.997967   \n",
            "std      0.822626    0.788820    0.799578    0.836867    0.807042    0.808557   \n",
            "min      0.000000    0.000000    0.000000    0.000000    0.000000    0.000000   \n",
            "25%      1.000000    0.000000    0.000000    0.000000    0.000000    0.000000   \n",
            "50%      2.000000    1.000000    1.000000    1.000000    1.000000    1.000000   \n",
            "75%      3.000000    2.000000    2.000000    2.000000    2.000000    2.000000   \n",
            "max      3.000000    2.000000    2.000000    2.000000    2.000000    2.000000   \n",
            "\n",
            "               IS          LP          CH          LC          IR          LA  \\\n",
            "count  492.000000  492.000000  492.000000  492.000000  492.000000  492.000000   \n",
            "mean     2.028455    1.058943    1.063008    1.022358    1.026423    0.989837   \n",
            "std      0.836540    0.791105    0.801026    0.835508    0.810643    0.808495   \n",
            "min      0.000000    0.000000    0.000000    0.000000    0.000000    0.000000   \n",
            "25%      1.000000    0.000000    0.000000    0.000000    0.000000    0.000000   \n",
            "50%      2.000000    1.000000    1.000000    1.000000    1.000000    1.000000   \n",
            "75%      3.000000    2.000000    2.000000    2.000000    2.000000    2.000000   \n",
            "max      3.000000    2.000000    2.000000    2.000000    2.000000    2.000000   \n",
            "\n",
            "               LE         LNE         SBP         BMI  \n",
            "count  492.000000  492.000000  492.000000  492.000000  \n",
            "mean     2.048780    1.044715    1.079268    1.010163  \n",
            "std      0.808344    0.788172    0.804656    0.833305  \n",
            "min      0.000000    0.000000    0.000000    0.000000  \n",
            "25%      1.000000    0.000000    0.000000    0.000000  \n",
            "50%      2.000000    1.000000    1.000000    1.000000  \n",
            "75%      3.000000    2.000000    2.000000    2.000000  \n",
            "max      3.000000    2.000000    2.000000    2.000000  \n"
          ]
        }
      ]
    },
    {
      "cell_type": "code",
      "source": [
        "df.shape"
      ],
      "metadata": {
        "colab": {
          "base_uri": "https://localhost:8080/"
        },
        "id": "2441kpgIyR5g",
        "outputId": "77dd40d0-0cb0-4b1d-e525-e09777921991"
      },
      "execution_count": 152,
      "outputs": [
        {
          "output_type": "execute_result",
          "data": {
            "text/plain": [
              "(492, 16)"
            ]
          },
          "metadata": {},
          "execution_count": 152
        }
      ]
    },
    {
      "cell_type": "code",
      "source": [
        "# Renaming columns with meaningful names\n",
        "df.columns = [\n",
        "    \"Cough\", \"Night_Sweats\", \"Blood_in_Sputum\", \"Fever\", \"Chest_Pain\",\n",
        "    \"Sputum_Production\", \"Immune_Status\", \"Lymphadenopathy\", \"Chills\", \"Lung_Condition\",\n",
        "    \"Immune_Response\", \"Loss_of_Appetite\", \"Lethargy\", \"Lung_Exam\", \"Systolic_BP\", \"BMI\"\n",
        "]\n",
        "\n",
        "print(df.head())\n"
      ],
      "metadata": {
        "colab": {
          "base_uri": "https://localhost:8080/"
        },
        "id": "SsqexNX2ygc9",
        "outputId": "312db177-54d8-483e-c716-7496aed32aa9"
      },
      "execution_count": 153,
      "outputs": [
        {
          "output_type": "stream",
          "name": "stdout",
          "text": [
            "   Cough  Night_Sweats  Blood_in_Sputum  Fever  Chest_Pain  Sputum_Production  \\\n",
            "0      0             2                2      1           2                  0   \n",
            "1      0             0                2      0           1                  1   \n",
            "2      1             1                2      0           2                  0   \n",
            "3      0             0                1      2           0                  0   \n",
            "4      1             2                1      1           0                  2   \n",
            "\n",
            "   Immune_Status  Lymphadenopathy  Chills  Lung_Condition  Immune_Response  \\\n",
            "0              1                1       1               2                2   \n",
            "1              0                1       0               2                2   \n",
            "2              1                2       2               2                0   \n",
            "3              1                0       0               1                1   \n",
            "4              2                1       0               1                2   \n",
            "\n",
            "   Loss_of_Appetite  Lethargy  Lung_Exam  Systolic_BP  BMI  \n",
            "0                 1         1          1            0    0  \n",
            "1                 0         0          0            2    1  \n",
            "2                 1         0          2            2    0  \n",
            "3                 0         1          1            1    0  \n",
            "4                 0         2          0            1    1  \n"
          ]
        }
      ]
    },
    {
      "cell_type": "code",
      "source": [
        "\n"
      ],
      "metadata": {
        "id": "8kpnXEDvPIhl"
      },
      "execution_count": 153,
      "outputs": []
    },
    {
      "cell_type": "code",
      "metadata": {
        "colab": {
          "base_uri": "https://localhost:8080/"
        },
        "id": "c2015461",
        "outputId": "8d73ee80-b713-4083-fd25-f121c29f3e73"
      },
      "source": [
        "from imblearn.over_sampling import SMOTE\n",
        "\n",
        "# Define the TB_Diagnosis column\n",
        "df[\"TB_Diagnosis\"] = (\n",
        "    (df[\"Cough\"] >= 2) &\n",
        "    (df[\"Fever\"] >= 2) &\n",
        "    (df[\"Blood_in_Sputum\"] >= 2)&\n",
        "    (df[\"Chest_Pain\"] >= 2)\n",
        ").astype(int)\n",
        "\n",
        "# Separate features (X) and target (y)\n",
        "X = df.drop(\"TB_Diagnosis\", axis=1)\n",
        "y = df[\"TB_Diagnosis\"]\n",
        "\n",
        "# Apply SMOTE\n",
        "sm = SMOTE(random_state=42)\n",
        "X_res, y_res = sm.fit_resample(X, y)\n",
        "\n",
        "print(\"Original target distribution:\")\n",
        "print(y.value_counts())\n",
        "print(\"\\nResampled target distribution (SMOTE):\")\n",
        "print(y_res.value_counts())"
      ],
      "execution_count": 154,
      "outputs": [
        {
          "output_type": "stream",
          "name": "stdout",
          "text": [
            "Original target distribution:\n",
            "TB_Diagnosis\n",
            "0    470\n",
            "1     22\n",
            "Name: count, dtype: int64\n",
            "\n",
            "Resampled target distribution (SMOTE):\n",
            "TB_Diagnosis\n",
            "0    470\n",
            "1    470\n",
            "Name: count, dtype: int64\n"
          ]
        }
      ]
    },
    {
      "cell_type": "code",
      "source": [
        "df[\"TB_Diagnosis\"] = (\n",
        "    (2*(df[\"Cough\"] >= 1).astype(int) +\n",
        "     2*(df[\"Blood_in_Sputum\"] >= 1).astype(int) +\n",
        "     (df[\"Fever\"] >= 1).astype(int) +\n",
        "     (df[\"Chest_Pain\"] >= 1).astype(int) +\n",
        "     (df[\"Night_Sweats\"] >= 1).astype(int)) >= 4\n",
        ").astype(int)\n",
        "\n",
        "print(df[\"TB_Diagnosis\"].value_counts())\n",
        "print(df[\"TB_Diagnosis\"].value_counts(normalize=True)*100)\n"
      ],
      "metadata": {
        "colab": {
          "base_uri": "https://localhost:8080/"
        },
        "id": "hKUXCjYKLY6g",
        "outputId": "47f76280-e282-40ad-8d4a-28d1b47dad94"
      },
      "execution_count": 155,
      "outputs": [
        {
          "output_type": "stream",
          "name": "stdout",
          "text": [
            "TB_Diagnosis\n",
            "1    451\n",
            "0     41\n",
            "Name: count, dtype: int64\n",
            "TB_Diagnosis\n",
            "1    91.666667\n",
            "0     8.333333\n",
            "Name: proportion, dtype: float64\n"
          ]
        }
      ]
    },
    {
      "cell_type": "code",
      "source": [
        "print(df.head())\n",
        "print(df[\"TB_Diagnosis\"].value_counts())\n"
      ],
      "metadata": {
        "colab": {
          "base_uri": "https://localhost:8080/"
        },
        "id": "5oXO2cUzL3kO",
        "outputId": "c6e454c5-4c6d-49d7-fa0f-3139e8ea8a5d"
      },
      "execution_count": 156,
      "outputs": [
        {
          "output_type": "stream",
          "name": "stdout",
          "text": [
            "   Cough  Night_Sweats  Blood_in_Sputum  Fever  Chest_Pain  Sputum_Production  \\\n",
            "0      0             2                2      1           2                  0   \n",
            "1      0             0                2      0           1                  1   \n",
            "2      1             1                2      0           2                  0   \n",
            "3      0             0                1      2           0                  0   \n",
            "4      1             2                1      1           0                  2   \n",
            "\n",
            "   Immune_Status  Lymphadenopathy  Chills  Lung_Condition  Immune_Response  \\\n",
            "0              1                1       1               2                2   \n",
            "1              0                1       0               2                2   \n",
            "2              1                2       2               2                0   \n",
            "3              1                0       0               1                1   \n",
            "4              2                1       0               1                2   \n",
            "\n",
            "   Loss_of_Appetite  Lethargy  Lung_Exam  Systolic_BP  BMI  TB_Diagnosis  \n",
            "0                 1         1          1            0    0             1  \n",
            "1                 0         0          0            2    1             0  \n",
            "2                 1         0          2            2    0             1  \n",
            "3                 0         1          1            1    0             0  \n",
            "4                 0         2          0            1    1             1  \n",
            "TB_Diagnosis\n",
            "1    451\n",
            "0     41\n",
            "Name: count, dtype: int64\n"
          ]
        }
      ]
    },
    {
      "cell_type": "code",
      "source": [
        "print(df[\"TB_Diagnosis\"].value_counts())\n",
        "print(df[\"TB_Diagnosis\"].value_counts(normalize=True)*100)\n"
      ],
      "metadata": {
        "colab": {
          "base_uri": "https://localhost:8080/"
        },
        "id": "DUre8EAlNf3n",
        "outputId": "c86695e5-aca4-4605-a206-ad3d2f3d14ce"
      },
      "execution_count": 157,
      "outputs": [
        {
          "output_type": "stream",
          "name": "stdout",
          "text": [
            "TB_Diagnosis\n",
            "1    451\n",
            "0     41\n",
            "Name: count, dtype: int64\n",
            "TB_Diagnosis\n",
            "1    91.666667\n",
            "0     8.333333\n",
            "Name: proportion, dtype: float64\n"
          ]
        }
      ]
    },
    {
      "cell_type": "code",
      "source": [
        "X_train, X_test, y_train, y_test = train_test_split(\n",
        "    X_res, y_res, test_size=0.2, random_state=42, stratify=y_res\n",
        ")"
      ],
      "metadata": {
        "id": "pnNhosqyOioM"
      },
      "execution_count": 158,
      "outputs": []
    },
    {
      "cell_type": "code",
      "source": [
        "#logistic regression\n",
        "model=LogisticRegression()\n",
        "model.fit(X_train,y_train)\n",
        "y_pred=model.predict(X_test)\n",
        "print(\"Confusion Matrix:\\n\", confusion_matrix(y_test, y_pred))\n",
        "print(\"\\nClassification Report:\\n\", classification_report(y_test, y_pred))\n"
      ],
      "metadata": {
        "colab": {
          "base_uri": "https://localhost:8080/"
        },
        "id": "fAjIkd2nWBo3",
        "outputId": "4baf7a8f-0463-4056-f3ea-fc9bda79ea8b"
      },
      "execution_count": 159,
      "outputs": [
        {
          "output_type": "stream",
          "name": "stdout",
          "text": [
            "Confusion Matrix:\n",
            " [[90  4]\n",
            " [ 0 94]]\n",
            "\n",
            "Classification Report:\n",
            "               precision    recall  f1-score   support\n",
            "\n",
            "           0       1.00      0.96      0.98        94\n",
            "           1       0.96      1.00      0.98        94\n",
            "\n",
            "    accuracy                           0.98       188\n",
            "   macro avg       0.98      0.98      0.98       188\n",
            "weighted avg       0.98      0.98      0.98       188\n",
            "\n"
          ]
        }
      ]
    },
    {
      "cell_type": "code",
      "source": [
        "import matplotlib.pyplot as plt\n",
        "import seaborn as sns\n",
        "from sklearn.metrics import confusion_matrix, roc_curve, auc, precision_recall_curve, average_precision_score\n",
        "\n",
        "# --- Confusion Matrix ---\n",
        "cm = confusion_matrix(y_test, y_pred)\n",
        "\n",
        "# --- ROC Curve ---\n",
        "y_prob = model.predict_proba(X_test)[:, 1]\n",
        "fpr, tpr, _ = roc_curve(y_test, y_prob)\n",
        "roc_auc = auc(fpr, tpr)\n",
        "\n",
        "# --- Precision-Recall Curve ---\n",
        "precision, recall, _ = precision_recall_curve(y_test, y_prob)\n",
        "avg_precision = average_precision_score(y_test, y_prob)\n",
        "\n",
        "# --- Combined Plot ---\n",
        "fig, axes = plt.subplots(1, 3, figsize=(18, 5))\n",
        "\n",
        "# 1. Confusion Matrix Heatmap\n",
        "sns.heatmap(cm, annot=True, fmt=\"d\", cmap=\"Blues\", cbar=False,\n",
        "            xticklabels=[\"No TB\", \"TB\"], yticklabels=[\"No TB\", \"TB\"], ax=axes[0])\n",
        "axes[0].set_xlabel(\"Predicted\")\n",
        "axes[0].set_ylabel(\"Actual\")\n",
        "axes[0].set_title(\"Confusion Matrix\")\n",
        "\n",
        "# 2. ROC Curve\n",
        "axes[1].plot(fpr, tpr, color=\"blue\", lw=2, label=f\"AUC = {roc_auc:.2f}\")\n",
        "axes[1].plot([0, 1], [0, 1], color=\"red\", linestyle=\"--\")\n",
        "axes[1].set_xlabel(\"False Positive Rate\")\n",
        "axes[1].set_ylabel(\"True Positive Rate\")\n",
        "axes[1].set_title(\"ROC Curve\")\n",
        "axes[1].legend(loc=\"lower right\")\n",
        "\n",
        "# 3. Precision-Recall Curve\n",
        "axes[2].plot(recall, precision, color=\"green\", lw=2, label=f\"AP = {avg_precision:.2f}\")\n",
        "axes[2].set_xlabel(\"Recall\")\n",
        "axes[2].set_ylabel(\"Precision\")\n",
        "axes[2].set_title(\"Precision-Recall Curve\")\n",
        "axes[2].legend(loc=\"lower left\")\n",
        "\n",
        "plt.tight_layout()\n",
        "plt.show()\n"
      ],
      "metadata": {
        "colab": {
          "base_uri": "https://localhost:8080/",
          "height": 240
        },
        "id": "DASM-IAIWUTi",
        "outputId": "5931af49-d7ff-4725-f938-266816465b93"
      },
      "execution_count": 161,
      "outputs": [
        {
          "output_type": "display_data",
          "data": {
            "text/plain": [
              "<Figure size 1800x500 with 3 Axes>"
            ],
            "image/png": "[encoded data removed]"
          },
          "metadata": {}
        }
      ]
    },
    {
      "cell_type": "code",
      "source": [],
      "metadata": {
        "id": "_UDU38k2WirD"
      },
      "execution_count": 159,
      "outputs": []
    },
    {
      "cell_type": "code",
      "source": [],
      "metadata": {
        "id": "kj7BlpdPWdxq"
      },
      "execution_count": 159,
      "outputs": []
    },
    {
      "cell_type": "code",
      "source": [],
      "metadata": {
        "id": "PKRRiU1FYCZB"
      },
      "execution_count": 161,
      "outputs": []
    }
  ]
}